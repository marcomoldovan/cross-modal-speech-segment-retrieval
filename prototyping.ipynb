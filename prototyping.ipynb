{
 "cells": [
  {
   "cell_type": "code",
   "execution_count": 1,
   "metadata": {},
   "outputs": [],
   "source": [
    "import torch\n",
    "import pytorch_lightning as pl\n",
    "import soundfile as sf\n",
    "from torch.utils.data import DataLoader, Dataset\n",
    "from datasets import load_dataset\n",
    "from transformers import Wav2Vec2FeatureExtractor, BertTokenizerFast, Wav2Vec2Model, BertModel"
   ]
  },
  {
   "cell_type": "code",
   "execution_count": 151,
   "metadata": {},
   "outputs": [],
   "source": [
    "from typing import Dict, List, Union\n",
    "from transformers import BertTokenizerFast, Wav2Vec2FeatureExtractor\n",
    "\n",
    "class LibriPreprocessor:\n",
    "  def __init__(self):\n",
    "    self.tokenizer = BertTokenizerFast.from_pretrained('bert-base-uncased')\n",
    "    self.extractor = Wav2Vec2FeatureExtractor.from_pretrained('facebook/wav2vec2-base')\n",
    "  \n",
    "  \n",
    "  def speech_file_to_array_fn(self, data):\n",
    "    speech_array, sampling_rate = sf.read(data[\"file\"])\n",
    "    data[\"speech\"] = speech_array\n",
    "    data[\"sampling_rate\"] = sampling_rate\n",
    "    data[\"target_text\"] = data[\"text\"]\n",
    "    return data\n",
    "    \n",
    "    \n",
    "  def prepare_dataset(self, data):    \n",
    "    # check that all files have the correct sampling rate\n",
    "    assert (\n",
    "        len(set(data[\"sampling_rate\"])) == 1\n",
    "    ), f\"Make sure all inputs have the same sampling rate of {self.extractor.feature_extractor.sampling_rate}.\"\n",
    "\n",
    "    data[\"input_values\"] = self.extractor(data[\"speech\"], sampling_rate=data[\"sampling_rate\"][0]).input_values\n",
    "    \n",
    "    tokenized_batch = self.tokenizer(data[\"target_text\"], padding='longest', max_length=128, pad_to_max_length=False)\n",
    "    data['input_ids'] = tokenized_batch['input_ids']\n",
    "    data['attention_mask_text'] = tokenized_batch['attention_mask']\n",
    "    data['token_type_ids_text'] = tokenized_batch['token_type_ids']\n",
    "    \n",
    "    return data\n",
    "\n",
    "\n",
    "  def __call__(\n",
    "    self,\n",
    "    batch: List[Dict[str, Union[List[int], torch.Tensor]]],\n",
    "    ) -> Dict[str, torch.Tensor]:\n",
    "    \"\"\"\n",
    "    Collate function to be used when training with PyTorch Lightning.\n",
    "    Args:\n",
    "        extractor (:class:`~transformers.Wav2Vec2FeatureExtractor`):\n",
    "            The processor used for proccessing the data.\n",
    "        tokenizer (:class:`~transformers.BertTokenizerFast`)\n",
    "            The tokenizer used for proccessing the data.\n",
    "        features (:obj:`List[Dict[str, Union[List[int], torch.Tensor]]]`):\n",
    "            A list of features to be collated.\n",
    "    Returns:\n",
    "        :obj:`Dict[str, torch.Tensor]`: A dictionary of tensors containing the collated features.\n",
    "    \"\"\" \n",
    "    input_features = [{\"input_values\": feature[\"input_values\"]} for feature in batch]\n",
    "    input_sentences = [{\"input_ids\": feature[\"input_ids\"]} for feature in batch]\n",
    "    \n",
    "    speech_batch = self.extractor.pad(\n",
    "        input_features,\n",
    "        padding='longest',\n",
    "        return_tensors=\"pt\",\n",
    "        )\n",
    "    text_batch = self.tokenizer.pad(\n",
    "        input_sentences,\n",
    "        padding='longest',\n",
    "        return_tensors='pt'\n",
    "    )\n",
    "    \n",
    "    return speech_batch, text_batch\n",
    "\n",
    "\n",
    "\n",
    "class LibriSpeechDataset(Dataset):\n",
    "  def __init__(self, libri_dataset):\n",
    "    self.libri_dataset = libri_dataset\n",
    "  \n",
    "  \n",
    "  def __len__(self):\n",
    "    return len(self.libri_dataset)\n",
    "  \n",
    "  \n",
    "  def __getitem__(self, index):\n",
    "    return self.libri_dataset[index]"
   ]
  },
  {
   "cell_type": "code",
   "execution_count": 152,
   "metadata": {},
   "outputs": [
    {
     "name": "stderr",
     "output_type": "stream",
     "text": [
      "Reusing dataset librispeech_asr (C:\\Users\\marco\\.cache\\huggingface\\datasets\\patrickvonplaten___librispeech_asr\\clean\\2.1.0\\f2c70a4d03ab4410954901bde48c54b85ca1b7f9bf7d616e7e2a72b5ee6ddbfc)\n",
      "100%|██████████| 73/73 [00:00<00:00, 572.42ex/s]\n"
     ]
    }
   ],
   "source": [
    "libri = load_dataset('patrickvonplaten/librispeech_asr_dummy', 'clean', split='validation')\n",
    "preprocessor = LibriPreprocessor()\n",
    "libri_read = libri.map(preprocessor.speech_file_to_array_fn, remove_columns=['chapter_id', 'id', 'speaker_id'])\n",
    "libri_prepared = libri_read.map(preprocessor.prepare_dataset, batch_size=8, num_proc=4, batched=True)\n",
    "libri_dataset = LibriSpeechDataset(libri_prepared)\n",
    "libri_dataloader = DataLoader(libri_dataset, batch_size=4, collate_fn=preprocessor)"
   ]
  },
  {
   "cell_type": "code",
   "execution_count": 158,
   "metadata": {},
   "outputs": [
    {
     "name": "stdout",
     "output_type": "stream",
     "text": [
      "torch.Size([4, 199760])\n",
      "torch.Size([4, 86])\n",
      "torch.Size([4, 470400])\n",
      "torch.Size([4, 86])\n",
      "torch.Size([4, 292640])\n",
      "torch.Size([4, 51])\n"
     ]
    }
   ],
   "source": [
    "for i, batch in enumerate(libri_dataloader):\n",
    "  speech, text = batch\n",
    "  print(speech['input_values'].shape)\n",
    "  print(text['input_ids'].shape)\n",
    "  if i == 2:\n",
    "    break"
   ]
  },
  {
   "cell_type": "code",
   "execution_count": 85,
   "metadata": {},
   "outputs": [
    {
     "name": "stderr",
     "output_type": "stream",
     "text": [
      "c:\\Users\\marco\\Google Drive\\Projects\\.venv\\speech-segment-retrieval\\lib\\site-packages\\transformers\\models\\wav2vec2\\modeling_wav2vec2.py:1093: UserWarning: __floordiv__ is deprecated, and its behavior will change in a future version of pytorch. It currently rounds toward 0 (like the 'trunc' function NOT 'floor'). This results in incorrect rounding for negative values. To keep the current behavior, use torch.div(a, b, rounding_mode='trunc'), or for actual floor division, use torch.div(a, b, rounding_mode='floor').\n",
      "  return (input_length - kernel_size) // stride + 1\n"
     ]
    }
   ],
   "source": [
    "embeddings = wav2vec2(input_values=input_values['input_values'], attention_mask=input_values['attention_mask'])"
   ]
  },
  {
   "cell_type": "code",
   "execution_count": 89,
   "metadata": {},
   "outputs": [
    {
     "data": {
      "text/plain": [
       "torch.Size([1, 292, 768])"
      ]
     },
     "execution_count": 89,
     "metadata": {},
     "output_type": "execute_result"
    }
   ],
   "source": [
    "embeddings['last_hidden_state'].shape"
   ]
  },
  {
   "cell_type": "code",
   "execution_count": 20,
   "metadata": {},
   "outputs": [
    {
     "name": "stdout",
     "output_type": "stream",
     "text": [
      "{'input_ids': tensor([[  101, 12525, 27565,  2121,  2003,  1996, 20121,  1997,  1996,  2690,\n",
      "          4280,  1998,  2057,  2024,  5580,  2000,  6160,  2010,  8036,   102]]), 'token_type_ids': tensor([[0, 0, 0, 0, 0, 0, 0, 0, 0, 0, 0, 0, 0, 0, 0, 0, 0, 0, 0, 0]]), 'attention_mask': tensor([[1, 1, 1, 1, 1, 1, 1, 1, 1, 1, 1, 1, 1, 1, 1, 1, 1, 1, 1, 1]]), 'special_tokens_mask': tensor([[1, 0, 0, 0, 0, 0, 0, 0, 0, 0, 0, 0, 0, 0, 0, 0, 0, 0, 0, 1]])}\n"
     ]
    }
   ],
   "source": [
    "inputs = tokenizer(libri[0]['text'].lower(), return_tensors='pt', return_special_tokens_mask=True)\n",
    "print(inputs)"
   ]
  },
  {
   "cell_type": "code",
   "execution_count": 2,
   "metadata": {},
   "outputs": [],
   "source": [
    "from models import ParallelSpeechAndTextModel"
   ]
  },
  {
   "cell_type": "code",
   "execution_count": 3,
   "metadata": {},
   "outputs": [
    {
     "name": "stderr",
     "output_type": "stream",
     "text": [
      "Downloading: 100%|██████████| 420M/420M [00:20<00:00, 21.6MB/s] \n",
      "Some weights of the model checkpoint at bert-base-uncased were not used when initializing BertModel: ['cls.predictions.decoder.weight', 'cls.predictions.transform.dense.bias', 'cls.seq_relationship.weight', 'cls.seq_relationship.bias', 'cls.predictions.transform.LayerNorm.bias', 'cls.predictions.transform.dense.weight', 'cls.predictions.bias', 'cls.predictions.transform.LayerNorm.weight']\n",
      "- This IS expected if you are initializing BertModel from the checkpoint of a model trained on another task or with another architecture (e.g. initializing a BertForSequenceClassification model from a BertForPreTraining model).\n",
      "- This IS NOT expected if you are initializing BertModel from the checkpoint of a model that you expect to be exactly identical (initializing a BertForSequenceClassification model from a BertForSequenceClassification model).\n",
      "Downloading: 100%|██████████| 1.56k/1.56k [00:00<00:00, 1.62MB/s]\n",
      "Downloading: 100%|██████████| 360M/360M [00:16<00:00, 22.8MB/s] \n",
      "Some weights of the model checkpoint at facebook/wav2vec2-base-960h were not used when initializing Wav2Vec2Model: ['lm_head.bias', 'lm_head.weight']\n",
      "- This IS expected if you are initializing Wav2Vec2Model from the checkpoint of a model trained on another task or with another architecture (e.g. initializing a BertForSequenceClassification model from a BertForPreTraining model).\n",
      "- This IS NOT expected if you are initializing Wav2Vec2Model from the checkpoint of a model that you expect to be exactly identical (initializing a BertForSequenceClassification model from a BertForSequenceClassification model).\n",
      "Some weights of Wav2Vec2Model were not initialized from the model checkpoint at facebook/wav2vec2-base-960h and are newly initialized: ['wav2vec2.masked_spec_embed']\n",
      "You should probably TRAIN this model on a down-stream task to be able to use it for predictions and inference.\n"
     ]
    },
    {
     "ename": "AttributeError",
     "evalue": "'BertModel' object has no attribute 'hidden_size'",
     "output_type": "error",
     "traceback": [
      "\u001b[1;31m---------------------------------------------------------------------------\u001b[0m",
      "\u001b[1;31mAttributeError\u001b[0m                            Traceback (most recent call last)",
      "\u001b[1;32m~\\AppData\\Local\\Temp/ipykernel_32824/1626986998.py\u001b[0m in \u001b[0;36m<module>\u001b[1;34m\u001b[0m\n\u001b[1;32m----> 1\u001b[1;33m \u001b[0mmodel\u001b[0m \u001b[1;33m=\u001b[0m \u001b[0mParallelSpeechAndTextModel\u001b[0m\u001b[1;33m(\u001b[0m\u001b[1;33m)\u001b[0m\u001b[1;33m\u001b[0m\u001b[1;33m\u001b[0m\u001b[0m\n\u001b[0m",
      "\u001b[1;32mc:\\Users\\marco\\Google Drive\\Projects\\Cross-Modal Speech Segment Retrieval\\cross-modal-speech-segment-retrieval\\models.py\u001b[0m in \u001b[0;36m__init__\u001b[1;34m(self)\u001b[0m\n\u001b[0;32m     13\u001b[0m     \u001b[0mself\u001b[0m\u001b[1;33m.\u001b[0m\u001b[0mspeech_model\u001b[0m \u001b[1;33m=\u001b[0m \u001b[0mWav2Vec2Model\u001b[0m\u001b[1;33m.\u001b[0m\u001b[0mfrom_pretrained\u001b[0m\u001b[1;33m(\u001b[0m\u001b[1;34m'facebook/wav2vec2-base-960h'\u001b[0m\u001b[1;33m)\u001b[0m\u001b[1;33m\u001b[0m\u001b[1;33m\u001b[0m\u001b[0m\n\u001b[0;32m     14\u001b[0m \u001b[1;33m\u001b[0m\u001b[0m\n\u001b[1;32m---> 15\u001b[1;33m     \u001b[0mself\u001b[0m\u001b[1;33m.\u001b[0m\u001b[0mtext_pooling\u001b[0m \u001b[1;33m=\u001b[0m \u001b[0mLinear\u001b[0m\u001b[1;33m(\u001b[0m\u001b[0mself\u001b[0m\u001b[1;33m.\u001b[0m\u001b[0mtext_model\u001b[0m\u001b[1;33m.\u001b[0m\u001b[0mhidden_size\u001b[0m\u001b[1;33m,\u001b[0m \u001b[0mself\u001b[0m\u001b[1;33m.\u001b[0m\u001b[0mtext_model\u001b[0m\u001b[1;33m.\u001b[0m\u001b[0mpooling_size\u001b[0m\u001b[1;33m)\u001b[0m\u001b[1;33m\u001b[0m\u001b[1;33m\u001b[0m\u001b[0m\n\u001b[0m\u001b[0;32m     16\u001b[0m     \u001b[0mself\u001b[0m\u001b[1;33m.\u001b[0m\u001b[0mspeech_pooling\u001b[0m \u001b[1;33m=\u001b[0m \u001b[0mLinear\u001b[0m\u001b[1;33m(\u001b[0m\u001b[0mself\u001b[0m\u001b[1;33m.\u001b[0m\u001b[0mspeech_model\u001b[0m\u001b[1;33m.\u001b[0m\u001b[0mhidden_size\u001b[0m\u001b[1;33m,\u001b[0m \u001b[0mself\u001b[0m\u001b[1;33m.\u001b[0m\u001b[0mspeech_model\u001b[0m\u001b[1;33m.\u001b[0m\u001b[0mpooling_size\u001b[0m\u001b[1;33m)\u001b[0m\u001b[1;33m\u001b[0m\u001b[1;33m\u001b[0m\u001b[0m\n\u001b[0;32m     17\u001b[0m \u001b[1;33m\u001b[0m\u001b[0m\n",
      "\u001b[1;32mc:\\Users\\marco\\Google Drive\\Projects\\.venv\\speech-segment-retrieval\\lib\\site-packages\\torch\\nn\\modules\\module.py\u001b[0m in \u001b[0;36m__getattr__\u001b[1;34m(self, name)\u001b[0m\n\u001b[0;32m   1175\u001b[0m             \u001b[1;32mif\u001b[0m \u001b[0mname\u001b[0m \u001b[1;32min\u001b[0m \u001b[0mmodules\u001b[0m\u001b[1;33m:\u001b[0m\u001b[1;33m\u001b[0m\u001b[1;33m\u001b[0m\u001b[0m\n\u001b[0;32m   1176\u001b[0m                 \u001b[1;32mreturn\u001b[0m \u001b[0mmodules\u001b[0m\u001b[1;33m[\u001b[0m\u001b[0mname\u001b[0m\u001b[1;33m]\u001b[0m\u001b[1;33m\u001b[0m\u001b[1;33m\u001b[0m\u001b[0m\n\u001b[1;32m-> 1177\u001b[1;33m         raise AttributeError(\"'{}' object has no attribute '{}'\".format(\n\u001b[0m\u001b[0;32m   1178\u001b[0m             type(self).__name__, name))\n\u001b[0;32m   1179\u001b[0m \u001b[1;33m\u001b[0m\u001b[0m\n",
      "\u001b[1;31mAttributeError\u001b[0m: 'BertModel' object has no attribute 'hidden_size'"
     ]
    }
   ],
   "source": [
    "model = ParallelSpeechAndTextModel()"
   ]
  },
  {
   "cell_type": "code",
   "execution_count": null,
   "metadata": {},
   "outputs": [],
   "source": []
  }
 ],
 "metadata": {
  "interpreter": {
   "hash": "4da89234b74e4fae68d9eaa5ec50b2779e8d5e39c022e20602371b3c43499324"
  },
  "kernelspec": {
   "display_name": "Python 3.9.5 64-bit ('speech-segment-retrieval': venv)",
   "language": "python",
   "name": "python3"
  },
  "language_info": {
   "codemirror_mode": {
    "name": "ipython",
    "version": 3
   },
   "file_extension": ".py",
   "mimetype": "text/x-python",
   "name": "python",
   "nbconvert_exporter": "python",
   "pygments_lexer": "ipython3",
   "version": "3.9.5"
  },
  "orig_nbformat": 4
 },
 "nbformat": 4,
 "nbformat_minor": 2
}
