{
 "cells": [
  {
   "cell_type": "code",
   "execution_count": 1,
   "metadata": {},
   "outputs": [],
   "source": [
    "import torch\n",
    "import pytorch_lightning as pl\n",
    "import soundfile as sf\n",
    "from torch.utils.data import DataLoader, Dataset\n",
    "from datasets import load_dataset\n",
    "from transformers import Wav2Vec2FeatureExtractor, BertTokenizerFast, Wav2Vec2Model, BertModel, BertConfig\n",
    "from sentence_transformers.util import cos_sim, semantic_search\n",
    "from metrics import mean_reciprocal_rank\n",
    "from config import ParallelSpeechAndTextModelPretrainingConfig"
   ]
  },
  {
   "cell_type": "code",
   "execution_count": 2,
   "metadata": {},
   "outputs": [
    {
     "data": {
      "text/plain": [
       "1"
      ]
     },
     "execution_count": 2,
     "metadata": {},
     "output_type": "execute_result"
    }
   ],
   "source": [
    "torch.cuda.device_count()"
   ]
  },
  {
   "cell_type": "code",
   "execution_count": 151,
   "metadata": {},
   "outputs": [],
   "source": [
    "from typing import Dict, List, Union\n",
    "from transformers import BertTokenizerFast, Wav2Vec2FeatureExtractor\n",
    "\n",
    "class LibriPreprocessor:\n",
    "  def __init__(self):\n",
    "    self.tokenizer = BertTokenizerFast.from_pretrained('bert-base-uncased')\n",
    "    self.extractor = Wav2Vec2FeatureExtractor.from_pretrained('facebook/wav2vec2-base')\n",
    "  \n",
    "  \n",
    "  def speech_file_to_array_fn(self, data):\n",
    "    speech_array, sampling_rate = sf.read(data[\"file\"])\n",
    "    data[\"speech\"] = speech_array\n",
    "    data[\"sampling_rate\"] = sampling_rate\n",
    "    data[\"target_text\"] = data[\"text\"]\n",
    "    return data\n",
    "    \n",
    "    \n",
    "  def prepare_dataset(self, data):    \n",
    "    # check that all files have the correct sampling rate\n",
    "    assert (\n",
    "        len(set(data[\"sampling_rate\"])) == 1\n",
    "    ), f\"Make sure all inputs have the same sampling rate of {self.extractor.feature_extractor.sampling_rate}.\"\n",
    "\n",
    "    data[\"input_values\"] = self.extractor(data[\"speech\"], sampling_rate=data[\"sampling_rate\"][0]).input_values\n",
    "    \n",
    "    tokenized_batch = self.tokenizer(data[\"target_text\"], padding='longest', max_length=128, pad_to_max_length=False)\n",
    "    data['input_ids'] = tokenized_batch['input_ids']\n",
    "    data['attention_mask_text'] = tokenized_batch['attention_mask']\n",
    "    data['token_type_ids_text'] = tokenized_batch['token_type_ids']\n",
    "    \n",
    "    return data\n",
    "\n",
    "\n",
    "  def __call__(\n",
    "    self,\n",
    "    batch: List[Dict[str, Union[List[int], torch.Tensor]]],\n",
    "    ) -> Dict[str, torch.Tensor]:\n",
    "    \"\"\"\n",
    "    Collate function to be used when training with PyTorch Lightning.\n",
    "    Args:\n",
    "        extractor (:class:`~transformers.Wav2Vec2FeatureExtractor`):\n",
    "            The processor used for proccessing the data.\n",
    "        tokenizer (:class:`~transformers.BertTokenizerFast`)\n",
    "            The tokenizer used for proccessing the data.\n",
    "        features (:obj:`List[Dict[str, Union[List[int], torch.Tensor]]]`):\n",
    "            A list of features to be collated.\n",
    "    Returns:\n",
    "        :obj:`Dict[str, torch.Tensor]`: A dictionary of tensors containing the collated features.\n",
    "    \"\"\" \n",
    "    input_features = [{\"input_values\": feature[\"input_values\"]} for feature in batch]\n",
    "    input_sentences = [{\"input_ids\": feature[\"input_ids\"]} for feature in batch]\n",
    "    \n",
    "    speech_batch = self.extractor.pad(\n",
    "        input_features,\n",
    "        padding='longest',\n",
    "        return_tensors=\"pt\",\n",
    "        )\n",
    "    text_batch = self.tokenizer.pad(\n",
    "        input_sentences,\n",
    "        padding='longest',\n",
    "        return_tensors='pt'\n",
    "    )\n",
    "    \n",
    "    return speech_batch, text_batch\n",
    "\n",
    "\n",
    "\n",
    "class LibriSpeechDataset(Dataset):\n",
    "  def __init__(self, libri_dataset):\n",
    "    self.libri_dataset = libri_dataset\n",
    "  \n",
    "  \n",
    "  def __len__(self):\n",
    "    return len(self.libri_dataset)\n",
    "  \n",
    "  \n",
    "  def __getitem__(self, index):\n",
    "    return self.libri_dataset[index]"
   ]
  },
  {
   "cell_type": "code",
   "execution_count": 152,
   "metadata": {},
   "outputs": [
    {
     "name": "stderr",
     "output_type": "stream",
     "text": [
      "Reusing dataset librispeech_asr (C:\\Users\\marco\\.cache\\huggingface\\datasets\\patrickvonplaten___librispeech_asr\\clean\\2.1.0\\f2c70a4d03ab4410954901bde48c54b85ca1b7f9bf7d616e7e2a72b5ee6ddbfc)\n",
      "100%|██████████| 73/73 [00:00<00:00, 572.42ex/s]\n"
     ]
    }
   ],
   "source": [
    "libri = load_dataset('patrickvonplaten/librispeech_asr_dummy', 'clean', split='validation')\n",
    "preprocessor = LibriPreprocessor()\n",
    "libri_read = libri.map(preprocessor.speech_file_to_array_fn, remove_columns=['chapter_id', 'id', 'speaker_id'])\n",
    "libri_prepared = libri_read.map(preprocessor.prepare_dataset, batch_size=8, num_proc=4, batched=True)\n",
    "libri_dataset = LibriSpeechDataset(libri_prepared)\n",
    "libri_dataloader = DataLoader(libri_dataset, batch_size=4, collate_fn=preprocessor)"
   ]
  },
  {
   "cell_type": "code",
   "execution_count": 158,
   "metadata": {},
   "outputs": [
    {
     "name": "stdout",
     "output_type": "stream",
     "text": [
      "torch.Size([4, 199760])\n",
      "torch.Size([4, 86])\n",
      "torch.Size([4, 470400])\n",
      "torch.Size([4, 86])\n",
      "torch.Size([4, 292640])\n",
      "torch.Size([4, 51])\n"
     ]
    }
   ],
   "source": [
    "for i, batch in enumerate(libri_dataloader):\n",
    "  speech, text = batch\n",
    "  print(speech['input_values'].shape)\n",
    "  print(text['input_ids'].shape)\n",
    "  if i == 2:\n",
    "    break"
   ]
  },
  {
   "cell_type": "code",
   "execution_count": 151,
   "metadata": {},
   "outputs": [
    {
     "name": "stderr",
     "output_type": "stream",
     "text": [
      "Some weights of the model checkpoint at bert-base-uncased were not used when initializing BertModel: ['cls.predictions.transform.dense.weight', 'cls.predictions.decoder.weight', 'cls.predictions.transform.dense.bias', 'cls.predictions.transform.LayerNorm.bias', 'cls.predictions.transform.LayerNorm.weight', 'cls.seq_relationship.bias', 'cls.predictions.bias', 'cls.seq_relationship.weight']\n",
      "- This IS expected if you are initializing BertModel from the checkpoint of a model trained on another task or with another architecture (e.g. initializing a BertForSequenceClassification model from a BertForPreTraining model).\n",
      "- This IS NOT expected if you are initializing BertModel from the checkpoint of a model that you expect to be exactly identical (initializing a BertForSequenceClassification model from a BertForSequenceClassification model).\n",
      "Some weights of the model checkpoint at facebook/wav2vec2-base-960h were not used when initializing Wav2Vec2Model: ['lm_head.bias', 'lm_head.weight']\n",
      "- This IS expected if you are initializing Wav2Vec2Model from the checkpoint of a model trained on another task or with another architecture (e.g. initializing a BertForSequenceClassification model from a BertForPreTraining model).\n",
      "- This IS NOT expected if you are initializing Wav2Vec2Model from the checkpoint of a model that you expect to be exactly identical (initializing a BertForSequenceClassification model from a BertForSequenceClassification model).\n",
      "Some weights of Wav2Vec2Model were not initialized from the model checkpoint at facebook/wav2vec2-base-960h and are newly initialized: ['wav2vec2.masked_spec_embed']\n",
      "You should probably TRAIN this model on a down-stream task to be able to use it for predictions and inference.\n"
     ]
    }
   ],
   "source": [
    "tokenizer = BertTokenizerFast.from_pretrained('bert-base-uncased')\n",
    "bert = BertModel.from_pretrained('bert-base-uncased')\n",
    "wav2vec2 = Wav2Vec2Model.from_pretrained('facebook/wav2vec2-base-960h')\n",
    "compute_grad_on_last_n_layers = 1"
   ]
  },
  {
   "cell_type": "code",
   "execution_count": 147,
   "metadata": {},
   "outputs": [],
   "source": [
    "count_parameters = lambda model : {'requires_grad':sum(p.numel() for p in model.parameters() if p.requires_grad)/1e6,\n",
    "                                   'does_not_require_grad':sum(p.numel() for p in model.parameters() if not p.requires_grad)/1e6}"
   ]
  },
  {
   "cell_type": "code",
   "execution_count": 148,
   "metadata": {},
   "outputs": [
    {
     "name": "stdout",
     "output_type": "stream",
     "text": [
      "feature_extractor\n",
      "feature_projection\n",
      "encoder\n",
      "{'requires_grad': 94.371712, 'does_not_require_grad': 0.0}\n",
      "{'requires_grad': 7.08864, 'does_not_require_grad': 87.283072}\n"
     ]
    }
   ],
   "source": [
    "for module in wav2vec2._modules:\n",
    "  print(module)\n",
    "\n",
    "print(count_parameters(wav2vec2))\n",
    "\n",
    "for param in wav2vec2.feature_extractor.parameters():\n",
    "  param.requires_grad = False\n",
    "for param in wav2vec2.feature_projection.parameters():\n",
    "  param.requires_grad = False\n",
    "for param in wav2vec2.encoder.pos_conv_embed.parameters():\n",
    "  param.requires_grad = False\n",
    "for param in wav2vec2.encoder.layer_norm.parameters():\n",
    "  param.requires_grad = False\n",
    "for param in wav2vec2.encoder.dropout.parameters():\n",
    "  param.requires_grad = False\n",
    "  \n",
    "for i, encoder_layer in enumerate(wav2vec2.encoder.layers._modules):\n",
    "  if i < (len(wav2vec2.encoder.layers._modules) - compute_grad_on_last_n_layers):\n",
    "    for param in wav2vec2.encoder.layers[i].parameters():\n",
    "      param.requires_grad = False\n",
    "\n",
    "print(count_parameters(wav2vec2))"
   ]
  },
  {
   "cell_type": "code",
   "execution_count": 149,
   "metadata": {},
   "outputs": [
    {
     "name": "stdout",
     "output_type": "stream",
     "text": [
      "embeddings\n",
      "encoder\n",
      "pooler\n",
      "{'requires_grad': 109.48224, 'does_not_require_grad': 0.0}\n",
      "{'requires_grad': 7.678464, 'does_not_require_grad': 101.803776}\n"
     ]
    }
   ],
   "source": [
    "for module in bert._modules:\n",
    "  print(module)\n",
    "\n",
    "print(count_parameters(bert))\n",
    "\n",
    "for param in bert.embeddings.parameters():\n",
    "  param.requires_grad = False\n",
    "for i, encoder_layer in enumerate(bert.encoder.layer._modules):\n",
    "  if i < (len(bert.encoder.layer) - compute_grad_on_last_n_layers):\n",
    "    for param in bert.encoder.layer[i].parameters():\n",
    "      param.requires_grad = False\n",
    "      \n",
    "print(count_parameters(bert))"
   ]
  },
  {
   "cell_type": "code",
   "execution_count": null,
   "metadata": {},
   "outputs": [],
   "source": []
  }
 ],
 "metadata": {
  "interpreter": {
   "hash": "4da89234b74e4fae68d9eaa5ec50b2779e8d5e39c022e20602371b3c43499324"
  },
  "kernelspec": {
   "display_name": "Python 3.9.5 64-bit ('speech-segment-retrieval': venv)",
   "language": "python",
   "name": "python3"
  },
  "language_info": {
   "codemirror_mode": {
    "name": "ipython",
    "version": 3
   },
   "file_extension": ".py",
   "mimetype": "text/x-python",
   "name": "python",
   "nbconvert_exporter": "python",
   "pygments_lexer": "ipython3",
   "version": "3.9.5"
  },
  "orig_nbformat": 4
 },
 "nbformat": 4,
 "nbformat_minor": 2
}
