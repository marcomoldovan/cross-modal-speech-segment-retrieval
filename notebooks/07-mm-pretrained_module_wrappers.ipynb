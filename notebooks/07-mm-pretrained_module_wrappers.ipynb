{
 "cells": [
  {
   "cell_type": "code",
   "execution_count": null,
   "metadata": {},
   "outputs": [],
   "source": [
    "from transformers import HubertPreTrainedModel, BertPreTrainedModel\n",
    "from transformers.models.hubert.modeling_hubert import HubertFeatureEncoder\n",
    "from transformers.models.bert.modeling_bert import BertPooler"
   ]
  },
  {
   "cell_type": "code",
   "execution_count": null,
   "metadata": {},
   "outputs": [],
   "source": [
    "class Hubert(HubertPreTrainedModel):\n",
    "    def __init__(self, config):\n",
    "        super().__init__(config)\n",
    "        \n",
    "        self.feature_projection = HubertFeatureEncoder(config)\n",
    "        # self.feature_projection = HubertFeatureProjection(config)\n",
    "        # self.encoder = HubertEncoder(config)\n",
    "        \n",
    "        self.post_init()\n",
    "        \n",
    "    def forward(\n",
    "        self,\n",
    "        input_values,\n",
    "        attention_mask = None,\n",
    "        mask_time_indices = None,\n",
    "        output_attentions = None,\n",
    "        output_hidden_states = None,\n",
    "        return_dict = None,\n",
    "    ):\n",
    "        output_attentions = output_attentions if output_attentions is not None else self.config.output_attentions\n",
    "        output_hidden_states = (\n",
    "            output_hidden_states if output_hidden_states is not None else self.config.output_hidden_states\n",
    "        )\n",
    "        return_dict = return_dict if return_dict is not None else self.config.use_return_dict\n",
    "\n",
    "        extract_features = self.feature_extractor(input_values)\n",
    "        extract_features = extract_features.transpose(1, 2)\n",
    "\n",
    "        if attention_mask is not None:\n",
    "            # compute reduced attention_mask corresponding to feature vectors\n",
    "            attention_mask = self._get_feature_vector_attention_mask(extract_features.shape[1], attention_mask)\n",
    "\n",
    "        hidden_states = self.feature_projection(extract_features)\n",
    "        hidden_states = self._mask_hidden_states(hidden_states, mask_time_indices=mask_time_indices)\n",
    "\n",
    "        encoder_outputs = self.encoder(\n",
    "            hidden_states,\n",
    "            attention_mask=attention_mask,\n",
    "            output_attentions=output_attentions,\n",
    "            output_hidden_states=output_hidden_states,\n",
    "            return_dict=return_dict,\n",
    "        )\n",
    "\n",
    "        hidden_states = encoder_outputs[0]\n",
    "\n",
    "        if not return_dict:\n",
    "            return (hidden_states,) + encoder_outputs[1:]"
   ]
  },
  {
   "cell_type": "code",
   "execution_count": null,
   "metadata": {},
   "outputs": [],
   "source": [
    "projector = Hubert.from_pretrained('ntu-spml/distilhubert')"
   ]
  },
  {
   "cell_type": "code",
   "execution_count": null,
   "metadata": {},
   "outputs": [],
   "source": [
    "class Pooler(BertPreTrainedModel):\n",
    "    def __init__(self, config):\n",
    "        super().__init__(config)\n",
    "        \n",
    "        self.pooler = BertPooler(config)\n",
    "        \n",
    "        self.post_init()\n",
    "        \n",
    "    def forward(self, hidden_states):\n",
    "        return self.pooler(hidden_states)"
   ]
  },
  {
   "cell_type": "code",
   "execution_count": null,
   "metadata": {},
   "outputs": [],
   "source": [
    "pooler = Pooler.from_pretrained('google/bert_uncased_L-2_H-128_A-2')"
   ]
  }
 ],
 "metadata": {
  "language_info": {
   "name": "python"
  },
  "orig_nbformat": 4
 },
 "nbformat": 4,
 "nbformat_minor": 2
}
