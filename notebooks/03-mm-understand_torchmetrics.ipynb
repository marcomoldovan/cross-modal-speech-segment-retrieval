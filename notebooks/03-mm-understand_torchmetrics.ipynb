{
 "cells": [
  {
   "cell_type": "code",
   "execution_count": 11,
   "metadata": {},
   "outputs": [],
   "source": [
    "import torch\n",
    "from torchmetrics import RetrievalMRR\n",
    "from sentence_transformers.util import semantic_search\n",
    "retrieval_mrr = RetrievalMRR(empty_target_action='neg')"
   ]
  },
  {
   "cell_type": "code",
   "execution_count": 7,
   "metadata": {},
   "outputs": [],
   "source": [
    "indexes = torch.LongTensor([0,0,0,1,1,1,2,2,2])\n",
    "targets = torch.Tensor([False, False, True, False, True, False, True, False, False])\n",
    "preds = torch.Tensor([9,9,9,9,9,9,9,9,1]) # <- this doesn't matter"
   ]
  },
  {
   "cell_type": "code",
   "execution_count": 9,
   "metadata": {},
   "outputs": [],
   "source": [
    "mrr = retrieval_mrr(preds, targets, indexes)"
   ]
  },
  {
   "cell_type": "code",
   "execution_count": 30,
   "metadata": {},
   "outputs": [],
   "source": [
    "def reciprocal_ranks(pairwise_similarity_results):\n",
    "  indexes = []\n",
    "  targets = []\n",
    "  for i, result in enumerate(pairwise_similarity_results):\n",
    "    for entry in result:\n",
    "      indexes.append(i)\n",
    "      if entry['corpus_id'] == i:\n",
    "        targets.append(1)\n",
    "      else:\n",
    "        targets.append(0)\n",
    "  \n",
    "  preds = [0] * len(targets)\n",
    "  \n",
    "  indexes_tensor = torch.LongTensor(indexes)\n",
    "  targets_tenosr = torch.Tensor(targets)\n",
    "  preds_tensor = torch.Tensor(preds)\n",
    "  \n",
    "  return indexes_tensor, targets_tenosr, preds_tensor"
   ]
  },
  {
   "cell_type": "code",
   "execution_count": 12,
   "metadata": {},
   "outputs": [],
   "source": [
    "pairwise_similarity_results = semantic_search(torch.randn(10,768), torch.randn(10,768))"
   ]
  },
  {
   "cell_type": "code",
   "execution_count": 29,
   "metadata": {},
   "outputs": [
    {
     "data": {
      "text/plain": [
       "[[{'corpus_id': 9, 'score': 0.057520925998687744},\n",
       "  {'corpus_id': 2, 'score': 0.03025989606976509},\n",
       "  {'corpus_id': 1, 'score': 0.025154951959848404},\n",
       "  {'corpus_id': 8, 'score': 0.007213592529296875},\n",
       "  {'corpus_id': 7, 'score': 0.002634083852171898},\n",
       "  {'corpus_id': 5, 'score': -0.004999515600502491},\n",
       "  {'corpus_id': 3, 'score': -0.016385996714234352},\n",
       "  {'corpus_id': 4, 'score': -0.030060674995183945},\n",
       "  {'corpus_id': 6, 'score': -0.03492419421672821},\n",
       "  {'corpus_id': 0, 'score': -0.05933963507413864}],\n",
       " [{'corpus_id': 0, 'score': 0.07163475453853607},\n",
       "  {'corpus_id': 7, 'score': 0.059280894696712494},\n",
       "  {'corpus_id': 5, 'score': 0.0374433733522892},\n",
       "  {'corpus_id': 6, 'score': 0.029402107000350952},\n",
       "  {'corpus_id': 4, 'score': 4.005851224064827e-05},\n",
       "  {'corpus_id': 1, 'score': -0.009260491468012333},\n",
       "  {'corpus_id': 2, 'score': -0.01265786588191986},\n",
       "  {'corpus_id': 3, 'score': -0.021664220839738846},\n",
       "  {'corpus_id': 8, 'score': -0.03717004880309105},\n",
       "  {'corpus_id': 9, 'score': -0.09651882946491241}],\n",
       " [{'corpus_id': 7, 'score': 0.06472350656986237},\n",
       "  {'corpus_id': 1, 'score': 0.0631839707493782},\n",
       "  {'corpus_id': 0, 'score': 0.01867065578699112},\n",
       "  {'corpus_id': 9, 'score': 0.012688574381172657},\n",
       "  {'corpus_id': 4, 'score': -0.01621534302830696},\n",
       "  {'corpus_id': 8, 'score': -0.022593555971980095},\n",
       "  {'corpus_id': 2, 'score': -0.024054693058133125},\n",
       "  {'corpus_id': 5, 'score': -0.025733139365911484},\n",
       "  {'corpus_id': 6, 'score': -0.053541116416454315},\n",
       "  {'corpus_id': 3, 'score': -0.10910078883171082}],\n",
       " [{'corpus_id': 7, 'score': 0.050807394087314606},\n",
       "  {'corpus_id': 3, 'score': 0.04259277507662773},\n",
       "  {'corpus_id': 2, 'score': 0.030019795522093773},\n",
       "  {'corpus_id': 8, 'score': 0.020172487944364548},\n",
       "  {'corpus_id': 6, 'score': 0.015055272728204727},\n",
       "  {'corpus_id': 0, 'score': 0.006262227892875671},\n",
       "  {'corpus_id': 4, 'score': 0.005084914155304432},\n",
       "  {'corpus_id': 9, 'score': -0.010909734293818474},\n",
       "  {'corpus_id': 5, 'score': -0.0492422915995121},\n",
       "  {'corpus_id': 1, 'score': -0.054841890931129456}],\n",
       " [{'corpus_id': 2, 'score': 0.08636005222797394},\n",
       "  {'corpus_id': 8, 'score': 0.04704202711582184},\n",
       "  {'corpus_id': 7, 'score': 0.038860343396663666},\n",
       "  {'corpus_id': 9, 'score': 0.017702531069517136},\n",
       "  {'corpus_id': 1, 'score': -0.0012436211109161377},\n",
       "  {'corpus_id': 3, 'score': -0.0017484305426478386},\n",
       "  {'corpus_id': 0, 'score': -0.010151619091629982},\n",
       "  {'corpus_id': 5, 'score': -0.02420179732143879},\n",
       "  {'corpus_id': 4, 'score': -0.025058843195438385},\n",
       "  {'corpus_id': 6, 'score': -0.06531108915805817}],\n",
       " [{'corpus_id': 8, 'score': 0.0651826485991478},\n",
       "  {'corpus_id': 4, 'score': 0.0465223602950573},\n",
       "  {'corpus_id': 5, 'score': 0.04021885246038437},\n",
       "  {'corpus_id': 1, 'score': 0.031692203134298325},\n",
       "  {'corpus_id': 7, 'score': 0.020327536389231682},\n",
       "  {'corpus_id': 9, 'score': 0.020132286474108696},\n",
       "  {'corpus_id': 6, 'score': 0.004030884709209204},\n",
       "  {'corpus_id': 3, 'score': -0.009158654138445854},\n",
       "  {'corpus_id': 0, 'score': -0.017762506380677223},\n",
       "  {'corpus_id': 2, 'score': -0.027539052069187164}],\n",
       " [{'corpus_id': 2, 'score': 0.053315214812755585},\n",
       "  {'corpus_id': 7, 'score': 0.04077555611729622},\n",
       "  {'corpus_id': 5, 'score': 0.02997719869017601},\n",
       "  {'corpus_id': 6, 'score': 0.007079338654875755},\n",
       "  {'corpus_id': 9, 'score': -0.0004821252077817917},\n",
       "  {'corpus_id': 8, 'score': -0.010066810064017773},\n",
       "  {'corpus_id': 1, 'score': -0.014148778282105923},\n",
       "  {'corpus_id': 0, 'score': -0.03168393671512604},\n",
       "  {'corpus_id': 4, 'score': -0.04191473871469498},\n",
       "  {'corpus_id': 3, 'score': -0.06062452495098114}],\n",
       " [{'corpus_id': 0, 'score': 0.10456583648920059},\n",
       "  {'corpus_id': 2, 'score': 0.07255180925130844},\n",
       "  {'corpus_id': 5, 'score': 0.05093168467283249},\n",
       "  {'corpus_id': 3, 'score': 0.046781085431575775},\n",
       "  {'corpus_id': 1, 'score': 0.04386492073535919},\n",
       "  {'corpus_id': 7, 'score': 0.03984499350190163},\n",
       "  {'corpus_id': 8, 'score': 0.03299878537654877},\n",
       "  {'corpus_id': 4, 'score': 0.014871583320200443},\n",
       "  {'corpus_id': 6, 'score': 0.0005602166056632996},\n",
       "  {'corpus_id': 9, 'score': -0.03364332765340805}],\n",
       " [{'corpus_id': 1, 'score': 0.03307952731847763},\n",
       "  {'corpus_id': 9, 'score': 0.024497659876942635},\n",
       "  {'corpus_id': 5, 'score': 0.02197125181555748},\n",
       "  {'corpus_id': 6, 'score': 0.016183270141482353},\n",
       "  {'corpus_id': 0, 'score': 0.012500699609518051},\n",
       "  {'corpus_id': 2, 'score': -0.0012811850756406784},\n",
       "  {'corpus_id': 8, 'score': -0.0054154228419065475},\n",
       "  {'corpus_id': 7, 'score': -0.020572926849126816},\n",
       "  {'corpus_id': 4, 'score': -0.02157675474882126},\n",
       "  {'corpus_id': 3, 'score': -0.023598074913024902}],\n",
       " [{'corpus_id': 0, 'score': 0.05026189610362053},\n",
       "  {'corpus_id': 4, 'score': 0.018001414835453033},\n",
       "  {'corpus_id': 9, 'score': 0.0131339430809021},\n",
       "  {'corpus_id': 8, 'score': 0.0006830785423517227},\n",
       "  {'corpus_id': 2, 'score': -0.0035512419417500496},\n",
       "  {'corpus_id': 3, 'score': -0.004247985780239105},\n",
       "  {'corpus_id': 1, 'score': -0.04383951053023338},\n",
       "  {'corpus_id': 5, 'score': -0.04692763835191727},\n",
       "  {'corpus_id': 6, 'score': -0.05026787146925926},\n",
       "  {'corpus_id': 7, 'score': -0.06129040569067001}]]"
      ]
     },
     "execution_count": 29,
     "metadata": {},
     "output_type": "execute_result"
    }
   ],
   "source": [
    "pairwise_similarity_results"
   ]
  },
  {
   "cell_type": "code",
   "execution_count": 31,
   "metadata": {},
   "outputs": [],
   "source": [
    "i, t, p = reciprocal_ranks(pairwise_similarity_results)"
   ]
  },
  {
   "cell_type": "code",
   "execution_count": 35,
   "metadata": {},
   "outputs": [
    {
     "data": {
      "text/plain": [
       "tensor(0.2247)"
      ]
     },
     "execution_count": 35,
     "metadata": {},
     "output_type": "execute_result"
    }
   ],
   "source": [
    "retrieval_mrr(p, t, i)"
   ]
  },
  {
   "cell_type": "code",
   "execution_count": 27,
   "metadata": {},
   "outputs": [],
   "source": [
    "bool_list = list(map(bool, rs))"
   ]
  },
  {
   "cell_type": "code",
   "execution_count": 28,
   "metadata": {},
   "outputs": [
    {
     "data": {
      "text/plain": [
       "[False,\n",
       " False,\n",
       " False,\n",
       " False,\n",
       " False,\n",
       " False,\n",
       " False,\n",
       " False,\n",
       " False,\n",
       " True,\n",
       " False,\n",
       " False,\n",
       " False,\n",
       " False,\n",
       " False,\n",
       " True,\n",
       " False,\n",
       " False,\n",
       " False,\n",
       " False,\n",
       " False,\n",
       " False,\n",
       " False,\n",
       " False,\n",
       " False,\n",
       " False,\n",
       " True,\n",
       " False,\n",
       " False,\n",
       " False,\n",
       " False,\n",
       " True,\n",
       " False,\n",
       " False,\n",
       " False,\n",
       " False,\n",
       " False,\n",
       " False,\n",
       " False,\n",
       " False,\n",
       " False,\n",
       " False,\n",
       " False,\n",
       " False,\n",
       " False,\n",
       " False,\n",
       " False,\n",
       " False,\n",
       " True,\n",
       " False,\n",
       " False,\n",
       " False,\n",
       " True,\n",
       " False,\n",
       " False,\n",
       " False,\n",
       " False,\n",
       " False,\n",
       " False,\n",
       " False,\n",
       " False,\n",
       " False,\n",
       " False,\n",
       " True,\n",
       " False,\n",
       " False,\n",
       " False,\n",
       " False,\n",
       " False,\n",
       " False,\n",
       " False,\n",
       " False,\n",
       " False,\n",
       " False,\n",
       " False,\n",
       " True,\n",
       " False,\n",
       " False,\n",
       " False,\n",
       " False,\n",
       " False,\n",
       " False,\n",
       " False,\n",
       " False,\n",
       " False,\n",
       " False,\n",
       " True,\n",
       " False,\n",
       " False,\n",
       " False,\n",
       " False,\n",
       " False,\n",
       " True,\n",
       " False,\n",
       " False,\n",
       " False,\n",
       " False,\n",
       " False,\n",
       " False,\n",
       " False]"
      ]
     },
     "execution_count": 28,
     "metadata": {},
     "output_type": "execute_result"
    }
   ],
   "source": [
    "bool_list"
   ]
  },
  {
   "cell_type": "code",
   "execution_count": null,
   "metadata": {},
   "outputs": [],
   "source": []
  }
 ],
 "metadata": {
  "interpreter": {
   "hash": "b2beefd3eff767b677397e49c617fe9eb55de17b3640af7353d98162718fbf92"
  },
  "kernelspec": {
   "display_name": "Python 3.9.5 64-bit ('speech-segment-retrieval': venv)",
   "language": "python",
   "name": "python3"
  },
  "language_info": {
   "codemirror_mode": {
    "name": "ipython",
    "version": 3
   },
   "file_extension": ".py",
   "mimetype": "text/x-python",
   "name": "python",
   "nbconvert_exporter": "python",
   "pygments_lexer": "ipython3",
   "version": "3.9.5"
  },
  "orig_nbformat": 4
 },
 "nbformat": 4,
 "nbformat_minor": 2
}
