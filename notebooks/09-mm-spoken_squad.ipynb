{
 "cells": [
  {
   "cell_type": "code",
   "execution_count": 1,
   "metadata": {},
   "outputs": [],
   "source": [
    "import requests"
   ]
  },
  {
   "cell_type": "code",
   "execution_count": 4,
   "metadata": {},
   "outputs": [],
   "source": [
    "URL = \"https://raw.githubusercontent.com/chiahsuan156/Spoken-SQuAD/master/spoken_test-v1.1.json\"\n",
    "response = requests.get(URL)\n",
    "with open(\"C:/Users/marco/Downloads/spoken_test-v1.1.json\", \"wb\") as download_file:\n",
    "    download_file.write(response.content)"
   ]
  },
  {
   "cell_type": "code",
   "execution_count": 6,
   "metadata": {},
   "outputs": [],
   "source": [
    "from torch.utils.data import Dataset\n",
    "import json"
   ]
  },
  {
   "cell_type": "code",
   "execution_count": 7,
   "metadata": {},
   "outputs": [],
   "source": [
    "dev_set_path = \"E:/Machine Learning/Datasets/spokensquad/spoken_dev-v1.1.json\"\n",
    "\n",
    "dev_index = json.load(open(dev_set_path))"
   ]
  },
  {
   "cell_type": "code",
   "execution_count": 35,
   "metadata": {},
   "outputs": [
    {
     "data": {
      "text/plain": [
       "'Super Bowl 50 was an American football game to determine the champion of the National Football League (NFL) for the 2015 season. The American Football Conference (AFC) champion Denver Broncos defeated the National Football Conference (NFC) champion Carolina Panthers 24–10 to earn their third Super Bowl title. The game was played on February 7, 2016, at Levi\\'s Stadium in the San Francisco Bay Area at Santa Clara, California. As this was the 50th Super Bowl, the league emphasized the \"golden anniversary\" with various gold-themed initiatives, as well as temporarily suspending the tradition of naming each Super Bowl game with Roman numerals (under which the game would have been known as \"Super Bowl L\"), so that the logo could prominently feature the Arabic numerals 50.'"
      ]
     },
     "execution_count": 35,
     "metadata": {},
     "output_type": "execute_result"
    }
   ],
   "source": [
    "dev_index['data'][0]['paragraphs'][0]['context']"
   ]
  },
  {
   "cell_type": "code",
   "execution_count": 32,
   "metadata": {},
   "outputs": [
    {
     "data": {
      "text/plain": [
       "[{'answers': [{'answer_start': 177, 'text': 'Denver Broncos'},\n",
       "   {'answer_start': 177, 'text': 'Denver Broncos'},\n",
       "   {'answer_start': 177, 'text': 'Denver Broncos'}],\n",
       "  'question': 'Which NFL team represented the AFC at Super Bowl 50?',\n",
       "  'id': '56be4db0acb8001400a502ec'},\n",
       " {'answers': [{'answer_start': 249, 'text': 'Carolina Panthers'},\n",
       "   {'answer_start': 249, 'text': 'Carolina Panthers'},\n",
       "   {'answer_start': 249, 'text': 'Carolina Panthers'}],\n",
       "  'question': 'Which NFL team represented the NFC at Super Bowl 50?',\n",
       "  'id': '56be4db0acb8001400a502ed'},\n",
       " {'answers': [{'answer_start': 403, 'text': 'Santa Clara, California'},\n",
       "   {'answer_start': 355, 'text': \"Levi's Stadium\"},\n",
       "   {'answer_start': 355,\n",
       "    'text': \"Levi's Stadium in the San Francisco Bay Area at Santa Clara, California.\"}],\n",
       "  'question': 'Where did Super Bowl 50 take place?',\n",
       "  'id': '56be4db0acb8001400a502ee'},\n",
       " {'answers': [{'answer_start': 177, 'text': 'Denver Broncos'},\n",
       "   {'answer_start': 177, 'text': 'Denver Broncos'},\n",
       "   {'answer_start': 177, 'text': 'Denver Broncos'}],\n",
       "  'question': 'Which NFL team won Super Bowl 50?',\n",
       "  'id': '56be4db0acb8001400a502ef'},\n",
       " {'answers': [{'answer_start': 488, 'text': 'gold'},\n",
       "   {'answer_start': 488, 'text': 'gold'},\n",
       "   {'answer_start': 521, 'text': 'gold'}],\n",
       "  'question': 'What color was used to emphasize the 50th anniversary of the Super Bowl?',\n",
       "  'id': '56be4db0acb8001400a502f0'},\n",
       " {'answers': [{'answer_start': 487, 'text': '\"golden anniversary\"'},\n",
       "   {'answer_start': 521, 'text': 'gold-themed'},\n",
       "   {'answer_start': 487, 'text': '\"golden anniversary'}],\n",
       "  'question': 'What was the theme of Super Bowl 50?',\n",
       "  'id': '56be8e613aeaaa14008c90d1'},\n",
       " {'answers': [{'answer_start': 334, 'text': 'February 7, 2016'},\n",
       "   {'answer_start': 334, 'text': 'February 7'},\n",
       "   {'answer_start': 334, 'text': 'February 7, 2016'}],\n",
       "  'question': 'What day was the game played on?',\n",
       "  'id': '56be8e613aeaaa14008c90d2'},\n",
       " {'answers': [{'answer_start': 133, 'text': 'American Football Conference'},\n",
       "   {'answer_start': 133, 'text': 'American Football Conference'},\n",
       "   {'answer_start': 133, 'text': 'American Football Conference'}],\n",
       "  'question': 'What is the AFC short for?',\n",
       "  'id': '56be8e613aeaaa14008c90d3'},\n",
       " {'answers': [{'answer_start': 487, 'text': '\"golden anniversary\"'},\n",
       "   {'answer_start': 521, 'text': 'gold-themed'},\n",
       "   {'answer_start': 521, 'text': 'gold'}],\n",
       "  'question': 'What was the theme of Super Bowl 50?',\n",
       "  'id': '56bea9923aeaaa14008c91b9'},\n",
       " {'answers': [{'answer_start': 133, 'text': 'American Football Conference'},\n",
       "   {'answer_start': 133, 'text': 'American Football Conference'},\n",
       "   {'answer_start': 133, 'text': 'American Football Conference'}],\n",
       "  'question': 'What does AFC stand for?',\n",
       "  'id': '56bea9923aeaaa14008c91ba'},\n",
       " {'answers': [{'answer_start': 334, 'text': 'February 7, 2016'},\n",
       "   {'answer_start': 334, 'text': 'February 7'},\n",
       "   {'answer_start': 334, 'text': 'February 7, 2016'}],\n",
       "  'question': 'What day was the Super Bowl played on?',\n",
       "  'id': '56bea9923aeaaa14008c91bb'},\n",
       " {'answers': [{'answer_start': 177, 'text': 'Denver Broncos'},\n",
       "   {'answer_start': 177, 'text': 'Denver Broncos'},\n",
       "   {'answer_start': 177, 'text': 'Denver Broncos'}],\n",
       "  'question': 'Who won Super Bowl 50?',\n",
       "  'id': '56beace93aeaaa14008c91df'},\n",
       " {'answers': [{'answer_start': 355, 'text': \"Levi's Stadium\"},\n",
       "   {'answer_start': 355, 'text': \"Levi's Stadium\"},\n",
       "   {'answer_start': 355,\n",
       "    'text': \"Levi's Stadium in the San Francisco Bay Area at Santa Clara\"}],\n",
       "  'question': 'What venue did Super Bowl 50 take place in?',\n",
       "  'id': '56beace93aeaaa14008c91e0'},\n",
       " {'answers': [{'answer_start': 403, 'text': 'Santa Clara'},\n",
       "   {'answer_start': 403, 'text': 'Santa Clara'},\n",
       "   {'answer_start': 403, 'text': 'Santa Clara'}],\n",
       "  'question': 'What city did Super Bowl 50 take place in?',\n",
       "  'id': '56beace93aeaaa14008c91e1'},\n",
       " {'answers': [{'answer_start': 693, 'text': 'Super Bowl L'},\n",
       "   {'answer_start': 704, 'text': 'L'},\n",
       "   {'answer_start': 693, 'text': 'Super Bowl L'}],\n",
       "  'question': 'If Roman numerals were used, what would Super Bowl 50 have been called?',\n",
       "  'id': '56beace93aeaaa14008c91e2'},\n",
       " {'answers': [{'answer_start': 116, 'text': '2015'},\n",
       "   {'answer_start': 112, 'text': 'the 2015 season'},\n",
       "   {'answer_start': 116, 'text': '2015'}],\n",
       "  'question': 'Super Bowl 50 decided the NFL champion for what season?',\n",
       "  'id': '56beace93aeaaa14008c91e3'},\n",
       " {'answers': [{'answer_start': 116, 'text': '2015'},\n",
       "   {'answer_start': 346, 'text': '2016'},\n",
       "   {'answer_start': 116, 'text': '2015'}],\n",
       "  'question': 'What year did the Denver Broncos secure a Super Bowl title for the third time?',\n",
       "  'id': '56bf10f43aeaaa14008c94fd'},\n",
       " {'answers': [{'answer_start': 403, 'text': 'Santa Clara'},\n",
       "   {'answer_start': 403, 'text': 'Santa Clara'},\n",
       "   {'answer_start': 403, 'text': 'Santa Clara'}],\n",
       "  'question': 'What city did Super Bowl 50 take place in?',\n",
       "  'id': '56bf10f43aeaaa14008c94fe'},\n",
       " {'answers': [{'answer_start': 355, 'text': \"Levi's Stadium\"},\n",
       "   {'answer_start': 355, 'text': \"Levi's Stadium\"},\n",
       "   {'answer_start': 355, 'text': \"Levi's Stadium\"}],\n",
       "  'question': 'What stadium did Super Bowl 50 take place in?',\n",
       "  'id': '56bf10f43aeaaa14008c94ff'},\n",
       " {'answers': [{'answer_start': 267, 'text': '24–10'},\n",
       "   {'answer_start': 267, 'text': '24–10'},\n",
       "   {'answer_start': 267, 'text': '24–10'}],\n",
       "  'question': 'What was the final score of Super Bowl 50? ',\n",
       "  'id': '56bf10f43aeaaa14008c9500'},\n",
       " {'answers': [{'answer_start': 334, 'text': 'February 7, 2016'},\n",
       "   {'answer_start': 334, 'text': 'February 7, 2016'},\n",
       "   {'answer_start': 334, 'text': 'February 7, 2016'}],\n",
       "  'question': 'What month, day and year did Super Bowl 50 take place? ',\n",
       "  'id': '56bf10f43aeaaa14008c9501'},\n",
       " {'answers': [{'answer_start': 116, 'text': '2015'},\n",
       "   {'answer_start': 346, 'text': '2016'},\n",
       "   {'answer_start': 346, 'text': '2016'}],\n",
       "  'question': 'What year was Super Bowl 50?',\n",
       "  'id': '56d20362e7d4791d009025e8'},\n",
       " {'answers': [{'answer_start': 177, 'text': 'Denver Broncos'},\n",
       "   {'answer_start': 177, 'text': 'Denver Broncos'},\n",
       "   {'answer_start': 177, 'text': 'Denver Broncos'}],\n",
       "  'question': 'What team was the AFC champion?',\n",
       "  'id': '56d20362e7d4791d009025e9'},\n",
       " {'answers': [{'answer_start': 249, 'text': 'Carolina Panthers'},\n",
       "   {'answer_start': 249, 'text': 'Carolina Panthers'},\n",
       "   {'answer_start': 249, 'text': 'Carolina Panthers'}],\n",
       "  'question': 'What team was the NFC champion?',\n",
       "  'id': '56d20362e7d4791d009025ea'},\n",
       " {'answers': [{'answer_start': 177, 'text': 'Denver Broncos'},\n",
       "   {'answer_start': 177, 'text': 'Denver Broncos'},\n",
       "   {'answer_start': 177, 'text': 'Denver Broncos'}],\n",
       "  'question': 'Who won Super Bowl 50?',\n",
       "  'id': '56d20362e7d4791d009025eb'},\n",
       " {'answers': [{'answer_start': 116, 'text': '2015'},\n",
       "   {'answer_start': 112, 'text': 'the 2015 season'},\n",
       "   {'answer_start': 116, 'text': '2015'}],\n",
       "  'question': 'Super Bowl 50 determined the NFL champion for what season?',\n",
       "  'id': '56d600e31c85041400946eae'},\n",
       " {'answers': [{'answer_start': 177, 'text': 'Denver Broncos'},\n",
       "   {'answer_start': 177, 'text': 'Denver Broncos'},\n",
       "   {'answer_start': 177, 'text': 'Denver Broncos'}],\n",
       "  'question': 'Which team won Super Bowl 50.',\n",
       "  'id': '56d600e31c85041400946eb0'},\n",
       " {'answers': [{'answer_start': 403, 'text': 'Santa Clara, California.'},\n",
       "   {'answer_start': 355, 'text': \"Levi's Stadium\"},\n",
       "   {'answer_start': 355, 'text': \"Levi's Stadium\"}],\n",
       "  'question': 'Where was Super Bowl 50 held?',\n",
       "  'id': '56d600e31c85041400946eb1'},\n",
       " {'answers': [{'answer_start': 0, 'text': 'Super Bowl'},\n",
       "   {'answer_start': 0, 'text': 'Super Bowl'},\n",
       "   {'answer_start': 0, 'text': 'Super Bowl'}],\n",
       "  'question': 'The name of the NFL championship game is?',\n",
       "  'id': '56d9895ddc89441400fdb50e'},\n",
       " {'answers': [{'answer_start': 177, 'text': 'Denver Broncos'},\n",
       "   {'answer_start': 177, 'text': 'Denver Broncos'},\n",
       "   {'answer_start': 177, 'text': 'Denver Broncos'}],\n",
       "  'question': 'What 2015 NFL team one the AFC playoff?',\n",
       "  'id': '56d9895ddc89441400fdb510'}]"
      ]
     },
     "execution_count": 32,
     "metadata": {},
     "output_type": "execute_result"
    }
   ],
   "source": [
    "dev_index['data'][0]['paragraphs'][0]['qas']"
   ]
  },
  {
   "cell_type": "code",
   "execution_count": null,
   "metadata": {},
   "outputs": [],
   "source": [
    "class SpokenSQuADDataset(Dataset):\n",
    "    def __init__(self, data_dir, index_file, corpus_dir):\n",
    "        self.indexes = json.load(open(f\"{data_dir}{index_file}\"))\n",
    "        self.corpus = f\"{data_dir}{corpus_dir}\"\n",
    "        \n",
    "    def __len__(self):\n",
    "        return len(self.indexes['data'][0]['paragraphs'])\n",
    "    \n",
    "    def __getitem__(self, idx):\n",
    "        return self.data[idx]"
   ]
  }
 ],
 "metadata": {
  "kernelspec": {
   "display_name": "Python 3.9.5 64-bit ('speech-segment-retrieval': venv)",
   "language": "python",
   "name": "python3"
  },
  "language_info": {
   "codemirror_mode": {
    "name": "ipython",
    "version": 3
   },
   "file_extension": ".py",
   "mimetype": "text/x-python",
   "name": "python",
   "nbconvert_exporter": "python",
   "pygments_lexer": "ipython3",
   "version": "3.9.5"
  },
  "orig_nbformat": 4,
  "vscode": {
   "interpreter": {
    "hash": "b2beefd3eff767b677397e49c617fe9eb55de17b3640af7353d98162718fbf92"
   }
  }
 },
 "nbformat": 4,
 "nbformat_minor": 2
}
