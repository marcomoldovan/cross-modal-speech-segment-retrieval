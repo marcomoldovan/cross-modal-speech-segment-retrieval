{
 "cells": [
  {
   "cell_type": "code",
   "execution_count": 8,
   "metadata": {},
   "outputs": [],
   "source": [
    "from transformers import HubertModel, HubertConfig\n",
    "import torch"
   ]
  },
  {
   "cell_type": "code",
   "execution_count": 87,
   "metadata": {},
   "outputs": [],
   "source": [
    "config = HubertConfig(\n",
    "    hidden_size=128,\n",
    "    num_hidden_layers=6,\n",
    "    num_attention_heads=4,\n",
    "    intermediate_size=512,\n",
    "    conv_dim=(64, 64, 64, 64, 64),\n",
    "    conv_stride=(5, 4, 3, 3, 2),\n",
    "    conv_kernel=(10, 8, 6, 3, 3),\n",
    ")"
   ]
  },
  {
   "cell_type": "code",
   "execution_count": 92,
   "metadata": {},
   "outputs": [
    {
     "ename": "AssertionError",
     "evalue": "hidden_size must be equal to conv_dim[0]",
     "output_type": "error",
     "traceback": [
      "\u001b[1;31m---------------------------------------------------------------------------\u001b[0m",
      "\u001b[1;31mAssertionError\u001b[0m                            Traceback (most recent call last)",
      "\u001b[1;32mc:\\Users\\marco\\Google Drive\\Projects\\Cross-Modal Speech Segment Retrieval\\cross-modal-speech-segment-retrieval\\notebooks\\12-mm-smaller_models.ipynb Zelle 3\u001b[0m in \u001b[0;36m<cell line: 1>\u001b[1;34m()\u001b[0m\n\u001b[1;32m----> <a href='vscode-notebook-cell:/c%3A/Users/marco/Google%20Drive/Projects/Cross-Modal%20Speech%20Segment%20Retrieval/cross-modal-speech-segment-retrieval/notebooks/12-mm-smaller_models.ipynb#X15sZmlsZQ%3D%3D?line=0'>1</a>\u001b[0m \u001b[39massert\u001b[39;00m \u001b[39m128\u001b[39m \u001b[39m==\u001b[39m \u001b[39m512\u001b[39m, \u001b[39m\"\u001b[39m\u001b[39mhidden_size must be equal to conv_dim[0]\u001b[39m\u001b[39m\"\u001b[39m\n",
      "\u001b[1;31mAssertionError\u001b[0m: hidden_size must be equal to conv_dim[0]"
     ]
    }
   ],
   "source": [
    "assert 128 == 512, \"hidden_size must be equal to conv_dim[0]\""
   ]
  },
  {
   "cell_type": "code",
   "execution_count": 88,
   "metadata": {},
   "outputs": [],
   "source": [
    "model = HubertModel(config)\n",
    "# model.to('cuda')\n",
    "input_values = torch.randn(64, 48000)#.cuda()"
   ]
  },
  {
   "cell_type": "code",
   "execution_count": 89,
   "metadata": {},
   "outputs": [
    {
     "name": "stdout",
     "output_type": "stream",
     "text": [
      "torch.Size([64, 132, 128])\n"
     ]
    }
   ],
   "source": [
    "with torch.no_grad():\n",
    "    output = model(input_values).last_hidden_state\n",
    "    print(output.size())"
   ]
  },
  {
   "cell_type": "code",
   "execution_count": 15,
   "metadata": {},
   "outputs": [],
   "source": [
    "pretrained_model = HubertModel.from_pretrained('ntu-spml/distilhubert')"
   ]
  },
  {
   "cell_type": "code",
   "execution_count": 19,
   "metadata": {},
   "outputs": [
    {
     "data": {
      "text/plain": [
       "torch.Size([1, 512, 149])"
      ]
     },
     "execution_count": 19,
     "metadata": {},
     "output_type": "execute_result"
    }
   ],
   "source": [
    "pretrained_model.feature_extractor(input_values).size()"
   ]
  },
  {
   "cell_type": "code",
   "execution_count": null,
   "metadata": {},
   "outputs": [],
   "source": []
  }
 ],
 "metadata": {
  "kernelspec": {
   "display_name": "Python 3.9.5 ('speech-segment-retrieval')",
   "language": "python",
   "name": "python3"
  },
  "language_info": {
   "codemirror_mode": {
    "name": "ipython",
    "version": 3
   },
   "file_extension": ".py",
   "mimetype": "text/x-python",
   "name": "python",
   "nbconvert_exporter": "python",
   "pygments_lexer": "ipython3",
   "version": "3.9.5"
  },
  "orig_nbformat": 4,
  "vscode": {
   "interpreter": {
    "hash": "aa0b5aecd04a9a200839e508d6e55aa58d0ad138d096dd077c8ef9e50abc1435"
   }
  }
 },
 "nbformat": 4,
 "nbformat_minor": 2
}
